{
 "cells": [
  {
   "cell_type": "markdown",
   "metadata": {},
   "source": [
    "# Guided Project - Explore U.S. Deaths"
   ]
  },
  {
   "cell_type": "code",
   "execution_count": 215,
   "metadata": {},
   "outputs": [],
   "source": [
    "#reading out data to see the data format\n",
    "f = open(\"US_births_1994-2003_CDC_NCHS.csv\",\"r\")\n",
    "data = f.read()\n",
    "data = data.split(\"\\n\")\n",
    "string_list = data[1:11]  "
   ]
  },
  {
   "cell_type": "code",
   "execution_count": 216,
   "metadata": {},
   "outputs": [],
   "source": [
    "#function to load files systematically\n",
    "def read_csv(fileName):\n",
    "    f = open(fileName,\"r\")\n",
    "    data = (f.read()).split(\"\\n\")\n",
    "    string_list = data[1:]\n",
    "    final_list = []\n",
    "    \n",
    "    for each in string_list:\n",
    "        int_fields = []\n",
    "        string_fields = each.split(\",\")\n",
    "        for data in string_fields:\n",
    "            data_int = int(data)\n",
    "            int_fields.append(data_int)\n",
    "        final_list.append(int_fields)\n",
    "    return final_list\n",
    "\n",
    "cdc_list=read_csv(\"US_births_1994-2003_CDC_NCHS.csv\")"
   ]
  },
  {
   "cell_type": "markdown",
   "metadata": {},
   "source": [
    "# Calculate the totals for months"
   ]
  },
  {
   "cell_type": "code",
   "execution_count": 217,
   "metadata": {},
   "outputs": [],
   "source": [
    "def month_births(birth_list):\n",
    "    births_per_month = {}\n",
    "    for each in birth_list:\n",
    "        month = each[1]\n",
    "        births = each[4]\n",
    "        if month in births_per_month:\n",
    "            births_per_month[month]=births_per_month[month]+births\n",
    "        else:\n",
    "            births_per_month[month]=births\n",
    "    return births_per_month\n",
    "\n",
    "cdc_month_births = month_births(cdc_list)"
   ]
  },
  {
   "cell_type": "markdown",
   "metadata": {},
   "source": [
    "# Calculate the totals for days of week"
   ]
  },
  {
   "cell_type": "code",
   "execution_count": 218,
   "metadata": {},
   "outputs": [],
   "source": [
    "def dow_births(birth_list):\n",
    "    birth_per_weekday = {}\n",
    "    for each in birth_list:\n",
    "        week = each[3]\n",
    "        births = each[4]\n",
    "        if week in birth_per_weekday:\n",
    "            birth_per_weekday[week] = birth_per_weekday[week]+births\n",
    "        else:\n",
    "            birth_per_weekday[week] = births\n",
    "    return birth_per_weekday\n",
    "cdc_day_births = dow_births(cdc_list)"
   ]
  },
  {
   "cell_type": "markdown",
   "metadata": {},
   "source": [
    "# Calculate the totals for different parameters"
   ]
  },
  {
   "cell_type": "code",
   "execution_count": 219,
   "metadata": {},
   "outputs": [],
   "source": [
    "def calc_counts(data,column):\n",
    "    birth_dict = {}\n",
    "    for each in data:\n",
    "        info_column = each[column]\n",
    "        births = each[4]\n",
    "        if info_column in birth_dict:\n",
    "            birth_dict[info_column] = birth_dict[info_column]+births\n",
    "        else:\n",
    "            birth_dict[info_column] = births\n",
    "            \n",
    "    return birth_dict\n",
    "cdc_year_births = calc_counts(cdc_list,0)\n",
    "cdc_month_births = calc_counts(cdc_list,1)\n",
    "cdc_dom_births = calc_counts(cdc_list,2)\n",
    "cdc_dow_births = calc_counts(cdc_list,3)"
   ]
  },
  {
   "cell_type": "markdown",
   "metadata": {},
   "source": [
    "# Calculate the min and max values for any dictionary that's passed in"
   ]
  },
  {
   "cell_type": "code",
   "execution_count": 220,
   "metadata": {},
   "outputs": [
    {
     "data": {
      "text/plain": [
       "'Min: 4079723 and Max: 6446196'"
      ]
     },
     "execution_count": 220,
     "metadata": {},
     "output_type": "execute_result"
    }
   ],
   "source": [
    "def min_and_max(birth_data):\n",
    "    min_value = 0\n",
    "    max_value = 0\n",
    "    min_value = min(birth_data.values())\n",
    "    max_value = max(birth_data.values())\n",
    "    return \"Min: \"+str(min_value)+\" and Max: \" +str(max_value)\n",
    "min_and_max(cdc_dow_births)"
   ]
  },
  {
   "cell_type": "markdown",
   "metadata": {},
   "source": [
    "# Check the birth growth trend by years"
   ]
  },
  {
   "cell_type": "code",
   "execution_count": 221,
   "metadata": {},
   "outputs": [
    {
     "name": "stdout",
     "output_type": "stream",
     "text": [
      "\n",
      "Birth growth information not available in 1994.\n",
      "Births decreased in 1995\n",
      "Births decreased in 1996\n",
      "Births decreased in 1997\n",
      "Births increased in 1998\n",
      "Births increased in 1999\n",
      "Births increased in 2000\n",
      "Births decreased in 2001\n",
      "Births decreased in 2002\n",
      "Births increased in 2003\n"
     ]
    }
   ],
   "source": [
    "def year_growth_trend(birth_data):\n",
    "    current_data=0\n",
    "    past_data=0\n",
    "    info = []\n",
    "    text = \"\"\n",
    "    info = calc_counts(birth_data,0)\n",
    "    for year,births in sorted(info.items()):\n",
    "        current_data = births\n",
    "        if past_data == 0:\n",
    "            text= \"Birth growth information not available in {}.\".format(year)\n",
    "            past_data = current_data\n",
    "            paragraph = \"\"\n",
    "        else:\n",
    "            if current_data > past_data:\n",
    "                text = \"Births increased in {}\".format(year)\n",
    "                past_data = current_data\n",
    "            elif current_data < past_data:\n",
    "                text = \"Births decreased in {}\".format(year)\n",
    "                past_data = current_data\n",
    "        paragraph = paragraph + \"\\n\" + text\n",
    "    print(paragraph)\n",
    "growth = year_growth_trend(cdc_list)"
   ]
  },
  {
   "cell_type": "markdown",
   "metadata": {},
   "source": [
    "# Check the growth trend of specific parameter by years. \n",
    "For example, \"trend\" shows how did the number of births on Saturday change each year between 1994 and 2003?\n",
    "sort_by can be \"year\",\"month\",\"day_of_month\",\"day_of_week\".\n",
    "If sort_by=\"year\",query can be any integer"
   ]
  },
  {
   "cell_type": "code",
   "execution_count": 222,
   "metadata": {},
   "outputs": [
    {
     "name": "stdout",
     "output_type": "stream",
     "text": [
      "{1994: 474732, 1995: 459580, 1996: 456261, 1997: 450840, 1998: 453776, 1999: 449985, 2000: 469794, 2001: 453928, 2002: 445770, 2003: 447445}\n",
      "\n",
      "Birth growth information is not available in 1994.\n",
      "Births decreased in 1995\n",
      "Births decreased in 1996\n",
      "Births decreased in 1997\n",
      "Births increased in 1998\n",
      "Births decreased in 1999\n",
      "Births increased in 2000\n",
      "Births decreased in 2001\n",
      "Births decreased in 2002\n",
      "Births increased in 2003\n"
     ]
    }
   ],
   "source": [
    "def growth_trend(fileName,sort_by=\"month\",query=3):\n",
    "    cdc_list = read_csv(fileName)\n",
    "    count_dict={}\n",
    "    \n",
    "    #Data assortment using different parameters\n",
    "    if sort_by == \"year\":\n",
    "        index = 0\n",
    "    elif sort_by == \"month\":\n",
    "        index = 1\n",
    "    elif sort_by == \"day_of_month\":\n",
    "        index = 2 \n",
    "    elif sort_by == \"day_of_week\":\n",
    "        index = 3 \n",
    "    for each in cdc_list:\n",
    "        year = each[0]\n",
    "        if sort_by == \"year\":\n",
    "            query = each[index]\n",
    "        query_field = each[index]\n",
    "        births = each[4]\n",
    "        if query_field == query:\n",
    "            if year in count_dict:\n",
    "                count_dict[year]=count_dict[year]+births\n",
    "            else:\n",
    "                count_dict[year]=births\n",
    "    print(count_dict)\n",
    "    \n",
    "    #Checking for birth growth trend base on the parameter chosen\n",
    "    past_data = 0\n",
    "    current_data = 0\n",
    "    for year,births in sorted(count_dict.items()):\n",
    "        current_data = births\n",
    "        if past_data == 0:\n",
    "            text= \"Birth growth information is not available in {}.\".format(year)\n",
    "            past_data = current_data\n",
    "            paragraph = \"\"\n",
    "        elif current_data > past_data:\n",
    "            text = \"Births increased in {}\".format(year)\n",
    "            past_data = current_data\n",
    "        elif current_data < past_data:\n",
    "            text = \"Births decreased in {}\".format(year)\n",
    "            past_data = current_data\n",
    "        paragraph = paragraph + \"\\n\" + text    \n",
    "    print(paragraph)\n",
    "            \n",
    "trend = growth_trend(\"US_births_1994-2003_CDC_NCHS.csv\",\"day_of_week\",6)"
   ]
  },
  {
   "cell_type": "markdown",
   "metadata": {},
   "source": [
    "# Merge the CDC and SSA datasets together\n",
    "If entries are found to be double entered in both datasets, the births "
   ]
  },
  {
   "cell_type": "code",
   "execution_count": 223,
   "metadata": {},
   "outputs": [],
   "source": [
    "def merging_CDC_SSA_data(csc_fileName,ssa_fileName):\n",
    "    import copy\n",
    "    cdc_list = read_csv(csc_fileName)   \n",
    "    ssa_list = read_csv(ssa_fileName)\n",
    "    cdc_date_list = []\n",
    "    ssa_date_list = [] \n",
    "    merged_data = []\n",
    "#copy.deepcopy is used to ensure cdc_list is not altered when merged_data is altered\n",
    "#merged_data = cdc_list[:] can be used if alteration of cdc_list does not matter\n",
    "    merged_data = copy.deepcopy(cdc_list)\n",
    "    for each_cdc in cdc_list:\n",
    "        cdc_date = each_cdc[0:4]\n",
    "        cdc_date_list.append(cdc_date)\n",
    "    for each_ssa in ssa_list:\n",
    "        ssa_date = each_ssa[0:4]\n",
    "        ssa_date_list.append(ssa_date)       \n",
    "\n",
    "        if ssa_date in cdc_date_list:\n",
    "            index_cdc = cdc_date_list.index(ssa_date)\n",
    "            index_ssa = ssa_date_list.index(ssa_date)\n",
    "            birth_cdc = cdc_list[index_cdc][4]\n",
    "            birth_ssa = ssa_list[index_ssa][4]\n",
    "            birth_avg = 0.5*birth_cdc+0.5*birth_ssa\n",
    "            merged_data[index_cdc][4]=birth_avg                    \n",
    "        else:\n",
    "            index = ssa_date_list.index(ssa_date)\n",
    "            merged_data.append(ssa_list[index])\n",
    "    return merged_data\n",
    "    \n",
    "merged_data_cdc_ssa = merging_CDC_SSA_data(\"US_births_1994-2003_CDC_NCHS.csv\",\"US_births_2000-2014_SSA.csv\")"
   ]
  },
  {
   "cell_type": "code",
   "execution_count": null,
   "metadata": {},
   "outputs": [],
   "source": []
  }
 ],
 "metadata": {
  "anaconda-cloud": {},
  "kernelspec": {
   "display_name": "Python 3",
   "language": "python",
   "name": "python3"
  },
  "language_info": {
   "codemirror_mode": {
    "name": "ipython",
    "version": 3
   },
   "file_extension": ".py",
   "mimetype": "text/x-python",
   "name": "python",
   "nbconvert_exporter": "python",
   "pygments_lexer": "ipython3",
   "version": "3.6.4"
  }
 },
 "nbformat": 4,
 "nbformat_minor": 1
}
